{
  "nbformat": 4,
  "nbformat_minor": 0,
  "metadata": {
    "colab": {
      "provenance": [],
      "authorship_tag": "ABX9TyP/Oh6p79hwbYBdLCbMSuqM",
      "include_colab_link": true
    },
    "kernelspec": {
      "name": "python3",
      "display_name": "Python 3"
    },
    "language_info": {
      "name": "python"
    }
  },
  "cells": [
    {
      "cell_type": "markdown",
      "metadata": {
        "id": "view-in-github",
        "colab_type": "text"
      },
      "source": [
        "<a href=\"https://colab.research.google.com/github/ErdalNayir/Parallel-Binary-Search/blob/master/Parallel_Binary_Seacrh.ipynb\" target=\"_parent\"><img src=\"https://colab.research.google.com/assets/colab-badge.svg\" alt=\"Open In Colab\"/></a>"
      ]
    },
    {
      "cell_type": "code",
      "execution_count": null,
      "metadata": {
        "id": "Sfvp9mc4pnIL"
      },
      "outputs": [],
      "source": [
        "import time\n",
        "def BinarySearch(Numlist, target):\n",
        "    firstIndex=0\n",
        "    lastIndex=len(Numlist)-1\n",
        "\n",
        "    while(firstIndex<=lastIndex):\n",
        "\n",
        "      middleIndex = firstIndex+(lastIndex - firstIndex)/2\n",
        "      middleIndex=int(round(middleIndex))\n",
        "\n",
        "      if Numlist[middleIndex]<target:\n",
        "          firstIndex=middleIndex+1\n",
        "      elif Numlist[middleIndex]>target:\n",
        "          lastIndex=middleIndex-1\n",
        "      else:\n",
        "          return Numlist[middleIndex]\n",
        "\n",
        "    return -1\n",
        "\n",
        "Nums=[i for i in range(1, 49999990)]"
      ]
    },
    {
      "cell_type": "code",
      "source": [
        "start = time.time()\n",
        "print(BinarySearch(Nums,25000000))\n",
        "print(time.time()-start)"
      ],
      "metadata": {
        "colab": {
          "base_uri": "https://localhost:8080/"
        },
        "id": "TBrvj0Fg6bz_",
        "outputId": "db016c88-f1b4-433a-869e-2d0fa9d883fe"
      },
      "execution_count": null,
      "outputs": [
        {
          "output_type": "stream",
          "name": "stdout",
          "text": [
            "25000000\n",
            "0.001928091049194336\n"
          ]
        }
      ]
    },
    {
      "cell_type": "code",
      "source": [
        "from threading import Thread\n",
        "import time\n",
        "start = time.time()\n",
        "#Oluşturulan dizi\n",
        "dataList = [i for i in range(1, 49999990)]\n",
        "\n",
        "# Dizinin maks uzunluğu\n",
        "MAX = len(dataList)\n",
        "\n",
        "# Kullanılacak maks thread sayısı\n",
        "MAX_THREAD = 10\n",
        "\n",
        "key = 25000000 # aranacak sayı\n",
        "isFound = False # aranacak bulundu sayı bulundumu bayrağı\n",
        "startPoint = 0 # başlangıç noktası\n",
        "\n",
        "def Binary_Search():\n",
        "    global startPoint, isFound\n",
        "    thread_part = startPoint\n",
        "    startPoint += 1\n",
        "\n",
        "    firstIndex = int(thread_part*(MAX/4))\n",
        "    lastIndex = int((thread_part+1)*(MAX/4))\n",
        "\n",
        "    while(firstIndex<=lastIndex and not isFound):\n",
        "\n",
        "      middleIndex = firstIndex+(lastIndex - firstIndex)/2\n",
        "      middleIndex=int(round(middleIndex))\n",
        "\n",
        "      if dataList[middleIndex]<key:\n",
        "          firstIndex=middleIndex+1\n",
        "      elif dataList[middleIndex]>key:\n",
        "          lastIndex=middleIndex-1\n",
        "      else:\n",
        "            isFound = True\n",
        "            break\n",
        "print(time.time()-start)"
      ],
      "metadata": {
        "colab": {
          "base_uri": "https://localhost:8080/"
        },
        "id": "ZuCK_vp1ps1y",
        "outputId": "cdc8642e-b520-4684-de1c-a98f1b1f53bb"
      },
      "execution_count": null,
      "outputs": [
        {
          "output_type": "stream",
          "name": "stdout",
          "text": [
            "3.988210916519165\n"
          ]
        }
      ]
    },
    {
      "cell_type": "code",
      "source": [
        "if __name__ == \"__main__\":\n",
        "\n",
        "    # MAX_THREADS kadar thread oluşturulur\n",
        "    thread = list(range(MAX_THREAD))\n",
        "\n",
        "    # MAX_THREADS kadar thread başlatılır\n",
        "    for i in range(MAX_THREAD):\n",
        "        thread[i] = Thread(target=Binary_Search)\n",
        "        thread[i].start()\n",
        "\n",
        "    # Bütün threadlerin sırayla bitmesi beklenir\n",
        "    start = time.time()\n",
        "    for i in range(MAX_THREAD):\n",
        "        thread[i].join()\n",
        "\n",
        "    # Aranan sayının bulunup bulunammasının kontrolü\n",
        "    if isFound:\n",
        "        print(\"%d found in array\" % key)\n",
        "    else:\n",
        "        print(\"%d not found in array\" % key)\n",
        "    print(time.time()-start)"
      ],
      "metadata": {
        "colab": {
          "base_uri": "https://localhost:8080/"
        },
        "id": "4qr2_p3AxmY0",
        "outputId": "42ea20a5-6639-4936-db9b-fb462784475d"
      },
      "execution_count": null,
      "outputs": [
        {
          "output_type": "stream",
          "name": "stdout",
          "text": [
            "25000000 found in array\n",
            "0.00013685226440429688\n"
          ]
        }
      ]
    },
    {
      "cell_type": "code",
      "source": [],
      "metadata": {
        "id": "y59RXXLR5ms4"
      },
      "execution_count": null,
      "outputs": []
    }
  ]
}